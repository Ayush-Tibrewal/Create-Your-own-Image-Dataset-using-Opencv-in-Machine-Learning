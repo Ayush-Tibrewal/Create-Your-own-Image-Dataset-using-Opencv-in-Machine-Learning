{
 "cells": [
  {
   "cell_type": "code",
   "execution_count": 1,
   "id": "90fc2e0b",
   "metadata": {},
   "outputs": [
    {
     "name": "stdout",
     "output_type": "stream",
     "text": [
      "Press 's' to start data collection for Stone\n",
      "s\n",
      "Press 's' to start data collection for Paper\n",
      "s\n",
      "Press 's' to start data collection for Scissors\n",
      "s\n"
     ]
    }
   ],
   "source": [
    "import cv2 as cv\n",
    "import os\n",
    "\n",
    "#argument 0 is given to use the default camera of the laptop\n",
    "camera = cv.VideoCapture(0)\n",
    "\n",
    "#Now check if the camera object is created successfully\n",
    "if not camera.isOpened():\n",
    "    print(\"The Camera is not Opened....Exiting\")\n",
    "    exit()\n",
    "\n",
    "#creating a list of labels \"You could add as many you want\"\n",
    "Labels = [\"Stone\", \"Paper\", \"Scissors\"]\n",
    "\n",
    "#Now create folders for each label to store images\n",
    "for label in Labels:\n",
    "    if not os.path.exists('C:\\\\Users\\\\try\\\\Desktop\\\\AiMl\\\\New folder(2)\\\\'+label):\n",
    "        os.makedirs('C:\\\\Users\\\\try\\\\Desktop\\\\AiMl\\\\New folder(2)\\\\'+label)\n",
    "        \n",
    "    #using count variable to name the images in the dataset.\n",
    "    count = 0\n",
    "    \n",
    "    #Taking input to start the capturing\n",
    "    print(\"Press 's' to start data collection for \" + label)\n",
    "    userinput = input()\n",
    "    if userinput != 's':\n",
    "        print(\"Wrong Input..........\")\n",
    "        exit()\n",
    "    \n",
    "    #clicking 5 images per label, you could change as you want.\n",
    "    while count<5:\n",
    "        #read returns two values one is the exit code and other is the frame\n",
    "        status, frame = camera.read()\n",
    "        \n",
    "        #check if we get the frame or not\n",
    "        if not status:\n",
    "            print(\"Frame is not been captured..Exiting...\")\n",
    "            break\n",
    "        \n",
    "        #convert the image into gray format for fast calculation\n",
    "        gray = cv.cvtColor(frame, cv.COLOR_BGR2GRAY)\n",
    "        \n",
    "        #display window with gray image\n",
    "        cv.imshow(\"Video Window\", gray)\n",
    "        \n",
    "        #resizing the image to store it\n",
    "        gray = cv.resize(gray, (28, 28))\n",
    "        \n",
    "        #Store the image to specific label folder\n",
    "        cv.imwrite('C:\\\\Users\\\\try\\\\Desktop\\\\AiMl\\\\New folder(2)\\\\'+label+'/img'+str(count)+'.png',gray)\n",
    "        count += 1\n",
    "        \n",
    "        #to quit the display window press 'q'\n",
    "        if cv.waitKey(1) == ord('q'):\n",
    "            break\n",
    "\n",
    "# When everything done, release the capture\n",
    "camera.release()\n",
    "cv.destroyAllWindows()\n"
   ]
  },
  {
   "cell_type": "code",
   "execution_count": null,
   "id": "612075f1",
   "metadata": {},
   "outputs": [],
   "source": []
  },
  {
   "cell_type": "code",
   "execution_count": null,
   "id": "9f956ac5",
   "metadata": {},
   "outputs": [],
   "source": []
  }
 ],
 "metadata": {
  "kernelspec": {
   "display_name": "Python 3 (ipykernel)",
   "language": "python",
   "name": "python3"
  },
  "language_info": {
   "codemirror_mode": {
    "name": "ipython",
    "version": 3
   },
   "file_extension": ".py",
   "mimetype": "text/x-python",
   "name": "python",
   "nbconvert_exporter": "python",
   "pygments_lexer": "ipython3",
   "version": "3.11.3"
  }
 },
 "nbformat": 4,
 "nbformat_minor": 5
}
